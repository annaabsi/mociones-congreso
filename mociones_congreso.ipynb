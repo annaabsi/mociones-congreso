{
 "cells": [
  {
   "cell_type": "code",
   "execution_count": 2,
   "metadata": {},
   "outputs": [],
   "source": [
    "import pandas as pd\n",
    "\n",
    "list_of_tables = []\n",
    "\n",
    "for page in range(302):\n",
    "    tables_on_page = pd.read_html(f'https://www4.congreso.gob.pe/mociones/n_mocion2016.asp?lg=&CurPage={page}', attrs = {'width': '95%'})\n",
    "    table = tables_on_page[1]\n",
    "    table.dropna(how='all', inplace=True)\n",
    "    table.reset_index(drop=True, inplace=True)\n",
    "    table.dropna(axis=1, how='all', inplace=True)\n",
    "    table.drop(0, inplace=True)\n",
    "    list_of_tables.append(table)\n",
    "\n",
    "df = pd.concat(list_of_tables, ignore_index=True)\n",
    "df.columns = ['FECHA', 'NÚMERO', 'ESTADO', 'SUMILLA', 'AUTOR(ES)']\n",
    "df.to_csv('mociones_congreso.csv')"
   ]
  }
 ],
 "metadata": {
  "interpreter": {
   "hash": "916dbcbb3f70747c44a77c7bcd40155683ae19c65e1c03b4aa3499c5328201f1"
  },
  "kernelspec": {
   "display_name": "Python 3.9.7 64-bit",
   "language": "python",
   "name": "python3"
  },
  "language_info": {
   "codemirror_mode": {
    "name": "ipython",
    "version": 3
   },
   "file_extension": ".py",
   "mimetype": "text/x-python",
   "name": "python",
   "nbconvert_exporter": "python",
   "pygments_lexer": "ipython3",
   "version": "3.9.7"
  },
  "orig_nbformat": 4
 },
 "nbformat": 4,
 "nbformat_minor": 2
}
